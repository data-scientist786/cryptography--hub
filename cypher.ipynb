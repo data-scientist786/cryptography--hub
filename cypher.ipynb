{
 "cells": [
  {
   "cell_type": "code",
   "execution_count": null,
   "metadata": {},
   "outputs": [],
   "source": [
    "alphabets = \"ABCDEFGHIJKLMNOPQRSTUVWXYZ\"\n",
    "string_in = input()\n",
    "length = len(string_in)\n",
    "string_out = \"\"\n",
    "for i in range(length):\n",
    "    c = string_in[i]\n",
    "    print(c)\n",
    "    loc = alphabets.find(c)\n",
    "    print(loc)\n",
    "    newloc = loc + 3\n",
    "    print(newloc)\n",
    "    string_out = string_out + alphabets[newloc]\n",
    "\n",
    "print(\"done:\", string_out)\n"
   ]
  },
  {
   "cell_type": "markdown",
   "metadata": {},
   "source": [
    "<div><center><p style=\"background-color:#000033;height:80px;color:white;font-size:25px\">Taking input from user⚠️ becareful input only uppercase letters</p></center></div>"
   ]
  },
  {
   "cell_type": "code",
   "execution_count": null,
   "metadata": {},
   "outputs": [],
   "source": [
    "alphabets = \"ABCDEFGHIJKLMNOPQRSTUVWXYZ\"\n",
    "string_in = input()\n",
    "print(string_in)\n"
   ]
  },
  {
   "cell_type": "code",
   "execution_count": null,
   "metadata": {},
   "outputs": [],
   "source": [
    "alphabets = \"ABCDEFGHIJKLMNOPQRSTUVWXYZ\"\n",
    "string_in = \"ASDF\"\n",
    "print(string_in)\n"
   ]
  },
  {
   "cell_type": "code",
   "execution_count": null,
   "metadata": {},
   "outputs": [],
   "source": [
    "length = len(string_in)\n",
    "print(length)\n"
   ]
  },
  {
   "cell_type": "code",
   "execution_count": null,
   "metadata": {},
   "outputs": [],
   "source": [
    "for i in range(length):\n",
    "    c = string_in[i]\n",
    "    print(c)\n"
   ]
  },
  {
   "cell_type": "code",
   "execution_count": null,
   "metadata": {},
   "outputs": [],
   "source": [
    "loc = alphabets.find(c)\n",
    "print(loc)\n"
   ]
  },
  {
   "cell_type": "code",
   "execution_count": null,
   "metadata": {},
   "outputs": [],
   "source": [
    "newloc = loc + 3\n",
    "print(newloc)\n"
   ]
  },
  {
   "cell_type": "code",
   "execution_count": null,
   "metadata": {},
   "outputs": [],
   "source": [
    "string_out = string_out + alphabets[newloc]\n",
    "\n",
    "print(\"done:\", string_out)\n"
   ]
  },
  {
   "cell_type": "markdown",
   "metadata": {},
   "source": [
    "<div><center><p style=\"background-color:#000033;height:80px;color:white;font-size:25px\"> 🙋‍♂️WHAT if we want to add some other digit rather than 3,</p></center></div>"
   ]
  },
  {
   "cell_type": "code",
   "execution_count": null,
   "metadata": {},
   "outputs": [],
   "source": [
    "shift = input()\n",
    "newloc = loc + shift\n",
    "print(newloc)\n"
   ]
  },
  {
   "cell_type": "code",
   "execution_count": null,
   "metadata": {},
   "outputs": [],
   "source": [
    "alphabets = \"ABCDEFGHIJKLMNOPQRSTUVWXYZ\"\n",
    "string_in = \"ASDF\"\n",
    "shift = 7\n",
    "length = len(string_in)\n",
    "string_out = \"\"\n",
    "for i in range(length):\n",
    "    c = string_in[i]\n",
    "    print(c)\n",
    "    loc = alphabets.find(c)\n",
    "    print(loc)\n",
    "    newloc = (loc + shift)%26\n",
    "    print(newloc)\n",
    "    string_out = string_out + alphabets[newloc]\n",
    "\n",
    "print(\"done:\", string_out)\n"
   ]
  },
  {
   "cell_type": "markdown",
   "metadata": {},
   "source": [
    "<div><center><p style=\"background-color:#000033;height:80px;color:white;font-size:25px\">🙄🔠 WHAT HAPPENED WHEN WE ENTER XYZ,</p></center></div>"
   ]
  },
  {
   "cell_type": "code",
   "execution_count": null,
   "metadata": {},
   "outputs": [],
   "source": []
  }
 ],
 "metadata": {
  "kernelspec": {
   "display_name": "Python 3.10.4 64-bit",
   "language": "python",
   "name": "python3"
  },
  "language_info": {
   "codemirror_mode": {
    "name": "ipython",
    "version": 3
   },
   "file_extension": ".py",
   "mimetype": "text/x-python",
   "name": "python",
   "nbconvert_exporter": "python",
   "pygments_lexer": "ipython3",
   "version": "3.10.4"
  },
  "orig_nbformat": 4,
  "vscode": {
   "interpreter": {
    "hash": "26de051ba29f2982a8de78e945f0abaf191376122a1563185a90213a26c5da77"
   }
  }
 },
 "nbformat": 4,
 "nbformat_minor": 2
}
