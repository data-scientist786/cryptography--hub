{
 "cells": [
  {
   "cell_type": "markdown",
   "metadata": {},
   "source": [
    "<div><center><p style=\"background:#065057;height:50px\">🔏🛅🗝️Brute Force Algorithm</p></center></div>"
   ]
  },
  {
   "cell_type": "code",
   "execution_count": null,
   "metadata": {},
   "outputs": [],
   "source": [
    "message = 'GUVF VF ZL FRPERG ZRFFNTR.'\n",
    "# loop through every possible key\n",
    "LETTERS = 'ABCDEFGHIJKLMNOPQRSTUVWXYZ'\n",
    " \n",
    "for key in range(len(LETTERS)):\n",
    "    translated = ''\n",
    "    \n",
    "    for symbol in message:\n",
    "        if symbol in LETTERS:\n",
    "            num = LETTERS.find(symbol)  # get the number of the symbol\n",
    "            num = num - key\n",
    "    # handle the wrap-around if num is 26 or larger or less than 0\n",
    "            if num < 0:\n",
    "                    num = num + len(LETTERS)\n",
    "    # add number's symbol at the end of translated\n",
    "            translated = translated + LETTERS[num]\n",
    "        else:\n",
    "    # just add the symbol without encrypting/decrypting\n",
    "                \n",
    "                translated = translated + symbol\n",
    "    # display the current key being tested, along with its decryption print('Key #%s: %s' % (key, translated))\n",
    "    print(key,translated)"
   ]
  },
  {
   "cell_type": "code",
   "execution_count": null,
   "metadata": {},
   "outputs": [],
   "source": []
  },
  {
   "cell_type": "markdown",
   "metadata": {},
   "source": [
    "# for  practice decrypt these one by one"
   ]
  },
  {
   "cell_type": "markdown",
   "metadata": {},
   "source": [
    " <div><p> qeFIP?eGSeECNNS,<br>\n",
    "5coOMXXcoPSZIWoQI,<br>\n",
    "avnl1olyD4l'ylDohww6DhzDjhuDil,<br>\n",
    "z.GM?.cEQc. 70c.7KcKMKHA9AGFK,<br>\n",
    "?MFYp2pPJJUpZSIJWpRdpMFY,<br>\n",
    "ZqH8sl5HtqHTH4s3lyvH5zH5spH4t pHzqHlH3l5K<br>\n",
    "Zfbi,!tif!xpvme!qspcbcmz!fbu!nf</p></div>"
   ]
  }
 ],
 "metadata": {
  "kernelspec": {
   "display_name": "Python 3.10.4 64-bit",
   "language": "python",
   "name": "python3"
  },
  "language_info": {
   "codemirror_mode": {
    "name": "ipython",
    "version": 3
   },
   "file_extension": ".py",
   "mimetype": "text/x-python",
   "name": "python",
   "nbconvert_exporter": "python",
   "pygments_lexer": "ipython3",
   "version": "3.10.4"
  },
  "orig_nbformat": 4,
  "vscode": {
   "interpreter": {
    "hash": "26de051ba29f2982a8de78e945f0abaf191376122a1563185a90213a26c5da77"
   }
  }
 },
 "nbformat": 4,
 "nbformat_minor": 2
}
