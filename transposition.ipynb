{
 "cells": [
  {
   "cell_type": "markdown",
   "metadata": {},
   "source": [
    "<div><center><p style=\"background-color:#141730; color:white;height:80px;font-size:40px\">🛅🔏🗝️Transposition</p></center><div>"
   ]
  },
  {
   "cell_type": "code",
   "execution_count": null,
   "metadata": {},
   "outputs": [],
   "source": [
    "\n",
    "def main():\n",
    "    myMessage = 'This is my secret message.'\n",
    "    myKey = 8\n",
    "\n",
    "    ciphertext = encryptMessage(myKey, myMessage)\n",
    "    print(ciphertext + '|')\n",
    "                            \n",
    "                                   \n",
    "def encryptMessage(key, message):\n",
    "                                 # Each string in ciphertext represents a column in the grid.\n",
    "    ciphertext=[''] * key\n",
    "                            \n",
    "                                 # Loop through each column in ciphertext.\n",
    "    for col in range(key):\n",
    "        pointer=col\n",
    "                            \n",
    "     # Keep looping until pointer goes past the length of the message.\n",
    "        while pointer < len(message):\n",
    "     # Place the character at pointer in message at the end of the\n",
    "     # current column in the ciphertext list.\n",
    "            ciphertext[col] += message[pointer]\n",
    "\n",
    "     # move pointer over\n",
    "            pointer += key\n",
    "\n",
    "     # Convert the ciphertext list into a single string value and return it.\n",
    "    return ''.join(ciphertext)\n",
    "                            \n",
    "    \n",
    "\n",
    "                                 # the main() function.\n",
    "if __name__ == '__main__':\n",
    "    main()"
   ]
  },
  {
   "cell_type": "code",
   "execution_count": null,
   "metadata": {},
   "outputs": [],
   "source": []
  },
  {
   "cell_type": "markdown",
   "metadata": {},
   "source": [
    "<div><center><p style=\"background-color:#141730; color:white;height:80px;font-size:20px\">📃list ,join,🛅 local variables,global variables,string,dictionaries,➰➿for loop. while loop</p></center><div>"
   ]
  },
  {
   "cell_type": "code",
   "execution_count": 14,
   "metadata": {},
   "outputs": [],
   "source": [
    "s = 42\n",
    "\n",
    "\n",
    "def foo():\n",
    "    s = 42\n"
   ]
  },
  {
   "cell_type": "code",
   "execution_count": 11,
   "metadata": {},
   "outputs": [],
   "source": [
    "def foo():\n",
    "    global p\n",
    "    print(p)\n"
   ]
  },
  {
   "cell_type": "code",
   "execution_count": 12,
   "metadata": {},
   "outputs": [],
   "source": [
    "def foo():\n",
    "    print(s)\n",
    "\n",
    "\n",
    "s = 42\n"
   ]
  },
  {
   "cell_type": "markdown",
   "metadata": {},
   "source": [
    "<div><center><p style=\"background-color:#141730; color:white;height:80px;font-size:20px\">📃Evaluate the following first one is done for you</p></center><div>"
   ]
  },
  {
   "cell_type": "code",
   "execution_count": 10,
   "metadata": {},
   "outputs": [
    {
     "data": {
      "text/plain": [
       "2"
      ]
     },
     "execution_count": 10,
     "metadata": {},
     "output_type": "execute_result"
    }
   ],
   "source": [
    "[0, 1, 2, 3, 4][2]\n",
    "# here actulally you have to tell on indes 2 what will be? ans it is 2"
   ]
  },
  {
   "cell_type": "code",
   "execution_count": null,
   "metadata": {},
   "outputs": [],
   "source": [
    "[0, 1, 2, 3, 4][2]\n",
    "[1, 2, 3, 4][2]\n",
    "[[1, 2], [3, 4]][0]\n",
    "[[1, 2], [3, 4]][1]\n",
    "[[1, 2], [3, 4]][0][1]\n",
    "[[1, 2], [3, 4]][1][1]\n",
    "['hello'][0]\n",
    "['hello'][0][1]\n",
    "[2, 4, 6, 8, 10][1:3]\n",
    "list('Hello world!')\n",
    "list(range(10))\n",
    "list(range(10))[2]\n"
   ]
  }
 ],
 "metadata": {
  "kernelspec": {
   "display_name": "Python 3.10.4 64-bit",
   "language": "python",
   "name": "python3"
  },
  "language_info": {
   "codemirror_mode": {
    "name": "ipython",
    "version": 3
   },
   "file_extension": ".py",
   "mimetype": "text/x-python",
   "name": "python",
   "nbconvert_exporter": "python",
   "pygments_lexer": "ipython3",
   "version": "3.10.4"
  },
  "orig_nbformat": 4,
  "vscode": {
   "interpreter": {
    "hash": "26de051ba29f2982a8de78e945f0abaf191376122a1563185a90213a26c5da77"
   }
  }
 },
 "nbformat": 4,
 "nbformat_minor": 2
}
